{
 "cells": [
  {
   "cell_type": "markdown",
   "id": "775dcb9e",
   "metadata": {},
   "source": [
    "# Create an assignment for File handling of JSON files in Python"
   ]
  },
  {
   "cell_type": "markdown",
   "id": "2954e83a",
   "metadata": {},
   "source": [
    "# 👉 2. Create a dictionary of any 7 Indian states and their capitals. Write this into a JSON file."
   ]
  },
  {
   "cell_type": "code",
   "execution_count": 16,
   "id": "7a1f0eaf",
   "metadata": {},
   "outputs": [
    {
     "name": "stdout",
     "output_type": "stream",
     "text": [
      "json file generated\n"
     ]
    }
   ],
   "source": [
    "import json\n",
    "states_capital={\"Andhra pradesh\":\"Amaravathi\",\"Telangana\":\"Hyderabad\", \"Goa\":\"Panaji\", \"Gujarat\":\"Gandhinagar\", \"Bihar\":\"Patna\",\"Madhya pradesh\":\"Bhopal\",\"Uttar pradesh\":\"Lucknow\"}\n",
    "with open(\"adi.json\",\"w\") as f:\n",
    "    json.dump(states_capital,f,indent=5)\n",
    "print(\"json file generated\")"
   ]
  },
  {
   "cell_type": "markdown",
   "id": "9f4b5448",
   "metadata": {},
   "source": [
    "# 👉 1. Create a JSON file (employee.json) containing employee information of minimum 5 employees. Each employee information consists of Name, DOB, Height, City, State. Write a python program that reads this information from the JSON file and saves the information into a list of objects of Employee class. Finally print the list of the Employee objects."
   ]
  },
  {
   "cell_type": "code",
   "execution_count": 5,
   "id": "88c16843",
   "metadata": {},
   "outputs": [
    {
     "name": "stdout",
     "output_type": "stream",
     "text": [
      "json file executed\n"
     ]
    }
   ],
   "source": [
    "import json\n",
    "employee={\"Emp1\": \"Adi\", \"dob\": \"29/11/1994\", \"height\": \"5.2\", \"city\": \"Vizag\", \"state\": \"Andhra pradesh\"},{\"Emp2\": \"Lucky\", \"dob\": \"16/5/1995\", \"height\": \"5.5\", \"city\": \"Hyderabad\", \"state\":\"Telangana\",}, {\"Emp3\": \"Lakshmi\",\"dob\": \"6/10/1996\", \"height\": \"5.8\", \"city\": \"Bangalore\", \"state\": \"Karnataka\"},{\"Emp4\": \"siddhu\", \"dob\": \"30/9/1991\",\"height\": \"5.9\", \"city\": \"kuppam\", \"state\": \"Tirupati\"},{\"Emp5\":\"Kranthi\",\"dob\":\"5/12/1997\",\"height\": \"5.6\",\"city\": \"rajampeta\",\"state\":\"kadappa\"}\n",
    "\n",
    "with open(\"lucky.json\",\"w\") as f:\n",
    "    json.dump(employee,f,indent=5)\n",
    "    \n",
    "print(\"json file executed\")"
   ]
  },
  {
   "cell_type": "markdown",
   "id": "62874e41",
   "metadata": {},
   "source": [
    "# 👉 1. Create a class named ‘Dog’. It should have a constructor which accepts its name, age and coat color. You must perform the following operations:"
   ]
  },
  {
   "cell_type": "code",
   "execution_count": null,
   "id": "f830491a",
   "metadata": {},
   "outputs": [],
   "source": [
    "🔴 a. It should have a function ‘description()’ which prints the name and age of the dog.\n",
    "🔴 b. It should have a function ‘get_info()’ which prints the coat color of the dog.\n",
    "🔴 c. Create child classes ‘JackRussellTerrier’ and ‘Bulldog’ which is inherited from the class ‘Dog’. It should have at least two methods of its own.\n",
    "🔴 d. Create objects and implement the above functionalities."
   ]
  },
  {
   "cell_type": "code",
   "execution_count": 40,
   "id": "cb6ba364",
   "metadata": {},
   "outputs": [
    {
     "name": "stdout",
     "output_type": "stream",
     "text": [
      "Dog name is: Max\n",
      "Dog age is: 3\n",
      "Dog coat_color is: Brown\n",
      "Dog energy level is: High\n",
      "Dog favourite activity is: Shell\n",
      "-----------------------------------------------------------------------\n",
      "Dog name is: Tommy\n",
      "Dog age is: 2\n",
      "Dog coat_color is: White\n",
      "Dog fav food is: pediagree\n",
      "Dog lazy level is: Low\n"
     ]
    }
   ],
   "source": [
    "class Dog:\n",
    "    def __init__(self,name,age,coat_color):\n",
    "        self.name=name\n",
    "        self.age=age\n",
    "        self.coat_color=coat_color\n",
    "        \n",
    "    def description(self):\n",
    "        print(\"Dog name is:\" ,self.name)\n",
    "        print(\"Dog age is:\",self.age)\n",
    "        \n",
    "    def get_info(self):\n",
    "        print(\"Dog coat_color is:\",self.coat_color)\n",
    "\n",
    "class JackRussellTerrier(Dog):\n",
    "    def __init__(self,name,age,coat_color,energy_level,favourite_activity):\n",
    "        super().__init__(name,age,coat_color)\n",
    "        self.energy_level = energy_level\n",
    "        self.favourite_activity = favourite_activity\n",
    "        \n",
    "    def energy(self):\n",
    "        print(\"Dog energy level is:\", self.energy_level)\n",
    "        \n",
    "    def activity(self):\n",
    "        print(\"Dog favourite activity is:\", self. favourite_activity)\n",
    "\n",
    "class Bulldog(Dog): \n",
    "    def __init__(self,name,age,coat_color,fav_food,lazy_level):\n",
    "        super().__init__(name,age,coat_color)\n",
    "        self.fav_food = fav_food\n",
    "        self.lazy_level = lazy_level\n",
    "        \n",
    "    def food(self):\n",
    "        print(\"Dog fav food is:\", self.fav_food)\n",
    "        \n",
    "    def laziness(self):\n",
    "        print(\"Dog lazy level is:\", self.lazy_level)\n",
    "        \n",
    "D1 = JackRussellTerrier(\"Max\",3,\"Brown\",\"High\",\"Shell\")\n",
    "D1.description()\n",
    "D1.get_info()\n",
    "D1.energy()\n",
    "D1.activity()\n",
    "\n",
    "print(\"-----------------------------------------------------------------------\")\n",
    "\n",
    "D2 = Bulldog(\"Tommy\",2,\"White\",\"pediagree\",\"Low\")\n",
    "D2.description()\n",
    "D2.get_info()\n",
    "D2.food()\n",
    "D2.laziness()    "
   ]
  }
 ],
 "metadata": {
  "kernelspec": {
   "display_name": "Python 3 (ipykernel)",
   "language": "python",
   "name": "python3"
  },
  "language_info": {
   "codemirror_mode": {
    "name": "ipython",
    "version": 3
   },
   "file_extension": ".py",
   "mimetype": "text/x-python",
   "name": "python",
   "nbconvert_exporter": "python",
   "pygments_lexer": "ipython3",
   "version": "3.11.1"
  }
 },
 "nbformat": 4,
 "nbformat_minor": 5
}
